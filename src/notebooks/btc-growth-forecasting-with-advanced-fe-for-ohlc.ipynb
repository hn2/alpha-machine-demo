{
 "cells": [
  {
   "cell_type": "markdown",
   "id": "e448536f",
   "metadata": {
    "papermill": {
     "duration": 0.039787,
     "end_time": "2022-04-27T09:29:15.211249",
     "exception": false,
     "start_time": "2022-04-27T09:29:15.171462",
     "status": "completed"
    },
    "tags": []
   },
   "source": [
    "<a class=\"anchor\" id=\"0\"></a>\n",
    "# Bitcoin (BTC) Forecasting with Advanced FE (original approach)\n",
    "\n",
    "## Dataset \"[Forecasting Top Cryptocurrencies](https://www.kaggle.com/datasets/vbmokin/forecasting-top-cryptocurrencies)\"\n",
    "## Data download from API [Yahoo.Finance](https://finance.yahoo.com/cryptocurrencies/)"
   ]
  },
  {
   "cell_type": "markdown",
   "id": "723dd5f1",
   "metadata": {
    "papermill": {
     "duration": 0.038784,
     "end_time": "2022-04-27T09:29:15.289722",
     "exception": false,
     "start_time": "2022-04-27T09:29:15.250938",
     "status": "completed"
    },
    "tags": []
   },
   "source": [
    "## Acknowledgements:\n",
    "* FE - the notebook [GResearch Simple LGB Starter](https://www.kaggle.com/code1110/gresearch-simple-lgb-starter)\n",
    "* about cryptocurrencies - dataset [Forecasting Top Cryptocurrencies](https://www.kaggle.com/datasets/vbmokin/forecasting-top-cryptocurrencies)\n",
    "* data source via API: https://finance.yahoo.com/cryptocurrencies/"
   ]
  },
  {
   "cell_type": "markdown",
   "id": "232d5818",
   "metadata": {
    "papermill": {
     "duration": 0.036772,
     "end_time": "2022-04-27T09:29:15.364507",
     "exception": false,
     "start_time": "2022-04-27T09:29:15.327735",
     "status": "completed"
    },
    "tags": []
   },
   "source": [
    "<a class=\"anchor\" id=\"0.1\"></a>\n",
    "\n",
    "## Table of Contents\n",
    "\n",
    "1. [Import libraries](#1)\n",
    "1. [Download data](#2)\n",
    "1. [FE](#3)\n",
    "1. [Model training](#4)\n",
    "1. [Prediction](#5)\n",
    "    - [Training data](#5.1)\n",
    "    - [Test data](#5.2)"
   ]
  },
  {
   "cell_type": "markdown",
   "id": "67232e7a",
   "metadata": {
    "papermill": {
     "duration": 0.037352,
     "end_time": "2022-04-27T09:29:15.439110",
     "exception": false,
     "start_time": "2022-04-27T09:29:15.401758",
     "status": "completed"
    },
    "tags": []
   },
   "source": [
    "## 1. Import libraries <a class=\"anchor\" id=\"1\"></a>\n",
    "\n",
    "[Back to Table of Contents](#0.1)"
   ]
  },
  {
   "cell_type": "code",
   "execution_count": 5,
   "id": "d3c9bdbd",
   "metadata": {
    "execution": {
     "iopub.execute_input": "2022-04-27T09:29:15.518015Z",
     "iopub.status.busy": "2022-04-27T09:29:15.517428Z",
     "iopub.status.idle": "2022-04-27T09:29:15.522661Z",
     "shell.execute_reply": "2022-04-27T09:29:15.521684Z"
    },
    "papermill": {
     "duration": 0.048565,
     "end_time": "2022-04-27T09:29:15.524875",
     "exception": false,
     "start_time": "2022-04-27T09:29:15.476310",
     "status": "completed"
    },
    "tags": []
   },
   "outputs": [],
   "source": [
    "# !pip install tsfresh"
   ]
  },
  {
   "cell_type": "code",
   "execution_count": 6,
   "id": "adb8578c",
   "metadata": {
    "execution": {
     "iopub.execute_input": "2022-04-27T09:29:15.601429Z",
     "iopub.status.busy": "2022-04-27T09:29:15.600920Z",
     "iopub.status.idle": "2022-04-27T09:29:19.305440Z",
     "shell.execute_reply": "2022-04-27T09:29:19.304360Z"
    },
    "papermill": {
     "duration": 3.746044,
     "end_time": "2022-04-27T09:29:19.308151",
     "exception": false,
     "start_time": "2022-04-27T09:29:15.562107",
     "status": "completed"
    },
    "tags": []
   },
   "outputs": [],
   "source": [
    "# Import libraries\n",
    "import random\n",
    "import os\n",
    "import numpy as np \n",
    "import pandas as pd \n",
    "import requests\n",
    "import pandas_datareader as web\n",
    "\n",
    "# Date\n",
    "import datetime as dt\n",
    "from datetime import date, timedelta, datetime\n",
    "\n",
    "# EDA\n",
    "import matplotlib.pyplot as plt\n",
    "from matplotlib.pylab import rcParams\n",
    "\n",
    "# FE\n",
    "from tsfresh import extract_features, select_features\n",
    "from functools import reduce\n",
    "\n",
    "# Metrics\n",
    "from sklearn.metrics import r2_score\n",
    "# from sklearn.metrics import mean_squared_error, mean_absolute_percentage_error, mean_absolute_error\n",
    "from sklearn.metrics import mean_squared_error, mean_absolute_error    \n",
    "\n",
    "# Modeling and preprocessing\n",
    "from sklearn.preprocessing import StandardScaler\n",
    "from sklearn.model_selection import train_test_split, GridSearchCV\n",
    "import xgboost as xgb\n",
    "\n",
    "import warnings\n",
    "warnings.filterwarnings(\"ignore\")"
   ]
  },
  {
   "cell_type": "code",
   "execution_count": 7,
   "id": "85bcd15b",
   "metadata": {
    "execution": {
     "iopub.execute_input": "2022-04-27T09:29:19.383711Z",
     "iopub.status.busy": "2022-04-27T09:29:19.383341Z",
     "iopub.status.idle": "2022-04-27T09:29:19.388602Z",
     "shell.execute_reply": "2022-04-27T09:29:19.387386Z"
    },
    "papermill": {
     "duration": 0.045703,
     "end_time": "2022-04-27T09:29:19.390851",
     "exception": false,
     "start_time": "2022-04-27T09:29:19.345148",
     "status": "completed"
    },
    "tags": []
   },
   "outputs": [],
   "source": [
    "# Set main parameters\n",
    "cryptocurrency = 'BTC'\n",
    "target = 'Close'\n",
    "forecasting_days = 10    # requires > 1"
   ]
  },
  {
   "cell_type": "code",
   "execution_count": 8,
   "id": "1c6cd5e3",
   "metadata": {
    "execution": {
     "iopub.execute_input": "2022-04-27T09:29:19.467930Z",
     "iopub.status.busy": "2022-04-27T09:29:19.467636Z",
     "iopub.status.idle": "2022-04-27T09:29:19.472488Z",
     "shell.execute_reply": "2022-04-27T09:29:19.471797Z"
    },
    "papermill": {
     "duration": 0.045961,
     "end_time": "2022-04-27T09:29:19.474243",
     "exception": false,
     "start_time": "2022-04-27T09:29:19.428282",
     "status": "completed"
    },
    "tags": []
   },
   "outputs": [],
   "source": [
    "# Set random state\n",
    "def fix_all_seeds(seed):\n",
    "    np.random.seed(seed)\n",
    "    random.seed(seed)\n",
    "    os.environ['PYTHONHASHSEED'] = str(seed)\n",
    "\n",
    "random_state = 42\n",
    "fix_all_seeds(random_state)"
   ]
  },
  {
   "cell_type": "code",
   "execution_count": 9,
   "id": "d6d16594",
   "metadata": {
    "execution": {
     "iopub.execute_input": "2022-04-27T09:29:19.553178Z",
     "iopub.status.busy": "2022-04-27T09:29:19.552176Z",
     "iopub.status.idle": "2022-04-27T09:29:19.559645Z",
     "shell.execute_reply": "2022-04-27T09:29:19.558475Z"
    },
    "papermill": {
     "duration": 0.049904,
     "end_time": "2022-04-27T09:29:19.562219",
     "exception": false,
     "start_time": "2022-04-27T09:29:19.512315",
     "status": "completed"
    },
    "tags": []
   },
   "outputs": [
    {
     "name": "stdout",
     "output_type": "stream",
     "text": [
      "Time interval: from 2020-04-01 00:00:00 to 2021-12-31 00:00:00\n"
     ]
    }
   ],
   "source": [
    "# Set time interval of data for given cryptocurrency - the period of coronavirus in 2020-2021\n",
    "date_start = dt.datetime(2020, 4, 1)\n",
    "# date_end = dt.datetime.now()\n",
    "date_end = dt.datetime(2021, 12, 31)\n",
    "print(f\"Time interval: from {date_start} to {date_end}\")"
   ]
  },
  {
   "cell_type": "markdown",
   "id": "fa21bbef",
   "metadata": {
    "papermill": {
     "duration": 0.037647,
     "end_time": "2022-04-27T09:29:19.639376",
     "exception": false,
     "start_time": "2022-04-27T09:29:19.601729",
     "status": "completed"
    },
    "tags": []
   },
   "source": [
    "## 2. Download data <a class=\"anchor\" id=\"2\"></a>\n",
    "\n",
    "[Back to Table of Contents](#0.1)"
   ]
  },
  {
   "cell_type": "code",
   "execution_count": 10,
   "id": "9b03f72a",
   "metadata": {
    "execution": {
     "iopub.execute_input": "2022-04-27T09:29:19.717172Z",
     "iopub.status.busy": "2022-04-27T09:29:19.716885Z",
     "iopub.status.idle": "2022-04-27T09:29:19.773356Z",
     "shell.execute_reply": "2022-04-27T09:29:19.772637Z"
    },
    "papermill": {
     "duration": 0.09888,
     "end_time": "2022-04-27T09:29:19.776173",
     "exception": false,
     "start_time": "2022-04-27T09:29:19.677293",
     "status": "completed"
    },
    "tags": []
   },
   "outputs": [
    {
     "ename": "FileNotFoundError",
     "evalue": "[Errno 2] No such file or directory: '../input/forecasting-top-cryptocurrencies/about_top_cryptocurrencies_1B_information.csv'",
     "output_type": "error",
     "traceback": [
      "\u001b[1;31m---------------------------------------------------------------------------\u001b[0m",
      "\u001b[1;31mFileNotFoundError\u001b[0m                         Traceback (most recent call last)",
      "\u001b[1;32mc:\\alpha-machine\\src\\notebooks\\btc-growth-forecasting-with-advanced-fe-for-ohlc.ipynb Cell 11\u001b[0m in \u001b[0;36m<cell line: 2>\u001b[1;34m()\u001b[0m\n\u001b[0;32m      <a href='vscode-notebook-cell:/c%3A/alpha-machine/src/notebooks/btc-growth-forecasting-with-advanced-fe-for-ohlc.ipynb#X13sZmlsZQ%3D%3D?line=0'>1</a>\u001b[0m \u001b[39m# Download information about cryptocurrencies\u001b[39;00m\n\u001b[1;32m----> <a href='vscode-notebook-cell:/c%3A/alpha-machine/src/notebooks/btc-growth-forecasting-with-advanced-fe-for-ohlc.ipynb#X13sZmlsZQ%3D%3D?line=1'>2</a>\u001b[0m df_about \u001b[39m=\u001b[39m pd\u001b[39m.\u001b[39;49mread_csv(\u001b[39m\"\u001b[39;49m\u001b[39m../input/forecasting-top-cryptocurrencies/about_top_cryptocurrencies_1B_information.csv\u001b[39;49m\u001b[39m\"\u001b[39;49m, sep\u001b[39m=\u001b[39;49m\u001b[39m\"\u001b[39;49m\u001b[39m;\u001b[39;49m\u001b[39m\"\u001b[39;49m)\n\u001b[0;32m      <a href='vscode-notebook-cell:/c%3A/alpha-machine/src/notebooks/btc-growth-forecasting-with-advanced-fe-for-ohlc.ipynb#X13sZmlsZQ%3D%3D?line=2'>3</a>\u001b[0m df_about\n",
      "File \u001b[1;32m~\\Anaconda3\\lib\\site-packages\\pandas\\util\\_decorators.py:311\u001b[0m, in \u001b[0;36mdeprecate_nonkeyword_arguments.<locals>.decorate.<locals>.wrapper\u001b[1;34m(*args, **kwargs)\u001b[0m\n\u001b[0;32m    305\u001b[0m \u001b[39mif\u001b[39;00m \u001b[39mlen\u001b[39m(args) \u001b[39m>\u001b[39m num_allow_args:\n\u001b[0;32m    306\u001b[0m     warnings\u001b[39m.\u001b[39mwarn(\n\u001b[0;32m    307\u001b[0m         msg\u001b[39m.\u001b[39mformat(arguments\u001b[39m=\u001b[39marguments),\n\u001b[0;32m    308\u001b[0m         \u001b[39mFutureWarning\u001b[39;00m,\n\u001b[0;32m    309\u001b[0m         stacklevel\u001b[39m=\u001b[39mstacklevel,\n\u001b[0;32m    310\u001b[0m     )\n\u001b[1;32m--> 311\u001b[0m \u001b[39mreturn\u001b[39;00m func(\u001b[39m*\u001b[39;49margs, \u001b[39m*\u001b[39;49m\u001b[39m*\u001b[39;49mkwargs)\n",
      "File \u001b[1;32m~\\Anaconda3\\lib\\site-packages\\pandas\\io\\parsers\\readers.py:678\u001b[0m, in \u001b[0;36mread_csv\u001b[1;34m(filepath_or_buffer, sep, delimiter, header, names, index_col, usecols, squeeze, prefix, mangle_dupe_cols, dtype, engine, converters, true_values, false_values, skipinitialspace, skiprows, skipfooter, nrows, na_values, keep_default_na, na_filter, verbose, skip_blank_lines, parse_dates, infer_datetime_format, keep_date_col, date_parser, dayfirst, cache_dates, iterator, chunksize, compression, thousands, decimal, lineterminator, quotechar, quoting, doublequote, escapechar, comment, encoding, encoding_errors, dialect, error_bad_lines, warn_bad_lines, on_bad_lines, delim_whitespace, low_memory, memory_map, float_precision, storage_options)\u001b[0m\n\u001b[0;32m    663\u001b[0m kwds_defaults \u001b[39m=\u001b[39m _refine_defaults_read(\n\u001b[0;32m    664\u001b[0m     dialect,\n\u001b[0;32m    665\u001b[0m     delimiter,\n\u001b[1;32m   (...)\u001b[0m\n\u001b[0;32m    674\u001b[0m     defaults\u001b[39m=\u001b[39m{\u001b[39m\"\u001b[39m\u001b[39mdelimiter\u001b[39m\u001b[39m\"\u001b[39m: \u001b[39m\"\u001b[39m\u001b[39m,\u001b[39m\u001b[39m\"\u001b[39m},\n\u001b[0;32m    675\u001b[0m )\n\u001b[0;32m    676\u001b[0m kwds\u001b[39m.\u001b[39mupdate(kwds_defaults)\n\u001b[1;32m--> 678\u001b[0m \u001b[39mreturn\u001b[39;00m _read(filepath_or_buffer, kwds)\n",
      "File \u001b[1;32m~\\Anaconda3\\lib\\site-packages\\pandas\\io\\parsers\\readers.py:575\u001b[0m, in \u001b[0;36m_read\u001b[1;34m(filepath_or_buffer, kwds)\u001b[0m\n\u001b[0;32m    572\u001b[0m _validate_names(kwds\u001b[39m.\u001b[39mget(\u001b[39m\"\u001b[39m\u001b[39mnames\u001b[39m\u001b[39m\"\u001b[39m, \u001b[39mNone\u001b[39;00m))\n\u001b[0;32m    574\u001b[0m \u001b[39m# Create the parser.\u001b[39;00m\n\u001b[1;32m--> 575\u001b[0m parser \u001b[39m=\u001b[39m TextFileReader(filepath_or_buffer, \u001b[39m*\u001b[39;49m\u001b[39m*\u001b[39;49mkwds)\n\u001b[0;32m    577\u001b[0m \u001b[39mif\u001b[39;00m chunksize \u001b[39mor\u001b[39;00m iterator:\n\u001b[0;32m    578\u001b[0m     \u001b[39mreturn\u001b[39;00m parser\n",
      "File \u001b[1;32m~\\Anaconda3\\lib\\site-packages\\pandas\\io\\parsers\\readers.py:932\u001b[0m, in \u001b[0;36mTextFileReader.__init__\u001b[1;34m(self, f, engine, **kwds)\u001b[0m\n\u001b[0;32m    929\u001b[0m     \u001b[39mself\u001b[39m\u001b[39m.\u001b[39moptions[\u001b[39m\"\u001b[39m\u001b[39mhas_index_names\u001b[39m\u001b[39m\"\u001b[39m] \u001b[39m=\u001b[39m kwds[\u001b[39m\"\u001b[39m\u001b[39mhas_index_names\u001b[39m\u001b[39m\"\u001b[39m]\n\u001b[0;32m    931\u001b[0m \u001b[39mself\u001b[39m\u001b[39m.\u001b[39mhandles: IOHandles \u001b[39m|\u001b[39m \u001b[39mNone\u001b[39;00m \u001b[39m=\u001b[39m \u001b[39mNone\u001b[39;00m\n\u001b[1;32m--> 932\u001b[0m \u001b[39mself\u001b[39m\u001b[39m.\u001b[39m_engine \u001b[39m=\u001b[39m \u001b[39mself\u001b[39;49m\u001b[39m.\u001b[39;49m_make_engine(f, \u001b[39mself\u001b[39;49m\u001b[39m.\u001b[39;49mengine)\n",
      "File \u001b[1;32m~\\Anaconda3\\lib\\site-packages\\pandas\\io\\parsers\\readers.py:1216\u001b[0m, in \u001b[0;36mTextFileReader._make_engine\u001b[1;34m(self, f, engine)\u001b[0m\n\u001b[0;32m   1212\u001b[0m     mode \u001b[39m=\u001b[39m \u001b[39m\"\u001b[39m\u001b[39mrb\u001b[39m\u001b[39m\"\u001b[39m\n\u001b[0;32m   1213\u001b[0m \u001b[39m# error: No overload variant of \"get_handle\" matches argument types\u001b[39;00m\n\u001b[0;32m   1214\u001b[0m \u001b[39m# \"Union[str, PathLike[str], ReadCsvBuffer[bytes], ReadCsvBuffer[str]]\"\u001b[39;00m\n\u001b[0;32m   1215\u001b[0m \u001b[39m# , \"str\", \"bool\", \"Any\", \"Any\", \"Any\", \"Any\", \"Any\"\u001b[39;00m\n\u001b[1;32m-> 1216\u001b[0m \u001b[39mself\u001b[39m\u001b[39m.\u001b[39mhandles \u001b[39m=\u001b[39m get_handle(  \u001b[39m# type: ignore[call-overload]\u001b[39;49;00m\n\u001b[0;32m   1217\u001b[0m     f,\n\u001b[0;32m   1218\u001b[0m     mode,\n\u001b[0;32m   1219\u001b[0m     encoding\u001b[39m=\u001b[39;49m\u001b[39mself\u001b[39;49m\u001b[39m.\u001b[39;49moptions\u001b[39m.\u001b[39;49mget(\u001b[39m\"\u001b[39;49m\u001b[39mencoding\u001b[39;49m\u001b[39m\"\u001b[39;49m, \u001b[39mNone\u001b[39;49;00m),\n\u001b[0;32m   1220\u001b[0m     compression\u001b[39m=\u001b[39;49m\u001b[39mself\u001b[39;49m\u001b[39m.\u001b[39;49moptions\u001b[39m.\u001b[39;49mget(\u001b[39m\"\u001b[39;49m\u001b[39mcompression\u001b[39;49m\u001b[39m\"\u001b[39;49m, \u001b[39mNone\u001b[39;49;00m),\n\u001b[0;32m   1221\u001b[0m     memory_map\u001b[39m=\u001b[39;49m\u001b[39mself\u001b[39;49m\u001b[39m.\u001b[39;49moptions\u001b[39m.\u001b[39;49mget(\u001b[39m\"\u001b[39;49m\u001b[39mmemory_map\u001b[39;49m\u001b[39m\"\u001b[39;49m, \u001b[39mFalse\u001b[39;49;00m),\n\u001b[0;32m   1222\u001b[0m     is_text\u001b[39m=\u001b[39;49mis_text,\n\u001b[0;32m   1223\u001b[0m     errors\u001b[39m=\u001b[39;49m\u001b[39mself\u001b[39;49m\u001b[39m.\u001b[39;49moptions\u001b[39m.\u001b[39;49mget(\u001b[39m\"\u001b[39;49m\u001b[39mencoding_errors\u001b[39;49m\u001b[39m\"\u001b[39;49m, \u001b[39m\"\u001b[39;49m\u001b[39mstrict\u001b[39;49m\u001b[39m\"\u001b[39;49m),\n\u001b[0;32m   1224\u001b[0m     storage_options\u001b[39m=\u001b[39;49m\u001b[39mself\u001b[39;49m\u001b[39m.\u001b[39;49moptions\u001b[39m.\u001b[39;49mget(\u001b[39m\"\u001b[39;49m\u001b[39mstorage_options\u001b[39;49m\u001b[39m\"\u001b[39;49m, \u001b[39mNone\u001b[39;49;00m),\n\u001b[0;32m   1225\u001b[0m )\n\u001b[0;32m   1226\u001b[0m \u001b[39massert\u001b[39;00m \u001b[39mself\u001b[39m\u001b[39m.\u001b[39mhandles \u001b[39mis\u001b[39;00m \u001b[39mnot\u001b[39;00m \u001b[39mNone\u001b[39;00m\n\u001b[0;32m   1227\u001b[0m f \u001b[39m=\u001b[39m \u001b[39mself\u001b[39m\u001b[39m.\u001b[39mhandles\u001b[39m.\u001b[39mhandle\n",
      "File \u001b[1;32m~\\Anaconda3\\lib\\site-packages\\pandas\\io\\common.py:786\u001b[0m, in \u001b[0;36mget_handle\u001b[1;34m(path_or_buf, mode, encoding, compression, memory_map, is_text, errors, storage_options)\u001b[0m\n\u001b[0;32m    781\u001b[0m \u001b[39melif\u001b[39;00m \u001b[39misinstance\u001b[39m(handle, \u001b[39mstr\u001b[39m):\n\u001b[0;32m    782\u001b[0m     \u001b[39m# Check whether the filename is to be opened in binary mode.\u001b[39;00m\n\u001b[0;32m    783\u001b[0m     \u001b[39m# Binary mode does not support 'encoding' and 'newline'.\u001b[39;00m\n\u001b[0;32m    784\u001b[0m     \u001b[39mif\u001b[39;00m ioargs\u001b[39m.\u001b[39mencoding \u001b[39mand\u001b[39;00m \u001b[39m\"\u001b[39m\u001b[39mb\u001b[39m\u001b[39m\"\u001b[39m \u001b[39mnot\u001b[39;00m \u001b[39min\u001b[39;00m ioargs\u001b[39m.\u001b[39mmode:\n\u001b[0;32m    785\u001b[0m         \u001b[39m# Encoding\u001b[39;00m\n\u001b[1;32m--> 786\u001b[0m         handle \u001b[39m=\u001b[39m \u001b[39mopen\u001b[39;49m(\n\u001b[0;32m    787\u001b[0m             handle,\n\u001b[0;32m    788\u001b[0m             ioargs\u001b[39m.\u001b[39;49mmode,\n\u001b[0;32m    789\u001b[0m             encoding\u001b[39m=\u001b[39;49mioargs\u001b[39m.\u001b[39;49mencoding,\n\u001b[0;32m    790\u001b[0m             errors\u001b[39m=\u001b[39;49merrors,\n\u001b[0;32m    791\u001b[0m             newline\u001b[39m=\u001b[39;49m\u001b[39m\"\u001b[39;49m\u001b[39m\"\u001b[39;49m,\n\u001b[0;32m    792\u001b[0m         )\n\u001b[0;32m    793\u001b[0m     \u001b[39melse\u001b[39;00m:\n\u001b[0;32m    794\u001b[0m         \u001b[39m# Binary mode\u001b[39;00m\n\u001b[0;32m    795\u001b[0m         handle \u001b[39m=\u001b[39m \u001b[39mopen\u001b[39m(handle, ioargs\u001b[39m.\u001b[39mmode)\n",
      "\u001b[1;31mFileNotFoundError\u001b[0m: [Errno 2] No such file or directory: '../input/forecasting-top-cryptocurrencies/about_top_cryptocurrencies_1B_information.csv'"
     ]
    }
   ],
   "source": [
    "# Download information about cryptocurrencies\n",
    "df_about = pd.read_csv(\"../input/forecasting-top-cryptocurrencies/about_top_cryptocurrencies_1B_information.csv\", sep=\";\")\n",
    "df_about"
   ]
  },
  {
   "cell_type": "code",
   "execution_count": null,
   "id": "b97493b2",
   "metadata": {
    "execution": {
     "iopub.execute_input": "2022-04-27T09:29:19.857605Z",
     "iopub.status.busy": "2022-04-27T09:29:19.857291Z",
     "iopub.status.idle": "2022-04-27T09:29:19.863124Z",
     "shell.execute_reply": "2022-04-27T09:29:19.862086Z"
    },
    "papermill": {
     "duration": 0.050177,
     "end_time": "2022-04-27T09:29:19.865265",
     "exception": false,
     "start_time": "2022-04-27T09:29:19.815088",
     "status": "completed"
    },
    "tags": []
   },
   "outputs": [],
   "source": [
    "def get_rank_cryptocurrency(df_about, cryptocurrency):\n",
    "    # Get rank by Market Cap for code of the cryptocurrency\n",
    "    # df_about from the dataset from https://www.kaggle.com/datasets/vbmokin/forecasting-top-cryptocurrencies\n",
    "    \n",
    "    place = df_about.index[df_about['code'] == cryptocurrency].tolist()[0]\n",
    "    if place==0:\n",
    "        place_end = 'st'\n",
    "    elif place < 3:\n",
    "        place_end = 'nd'\n",
    "    else: place_end = 'th'\n",
    "        \n",
    "    print(f\"{df_about.loc[place, 'name']} was {place+1}{place_end}\",\n",
    "          \"among the world's cryptocurrencies by market capitalization (2022-04-11)\")"
   ]
  },
  {
   "cell_type": "code",
   "execution_count": null,
   "id": "e0148f19",
   "metadata": {
    "execution": {
     "iopub.execute_input": "2022-04-27T09:29:19.943918Z",
     "iopub.status.busy": "2022-04-27T09:29:19.943623Z",
     "iopub.status.idle": "2022-04-27T09:29:19.956216Z",
     "shell.execute_reply": "2022-04-27T09:29:19.955101Z"
    },
    "papermill": {
     "duration": 0.055284,
     "end_time": "2022-04-27T09:29:19.958987",
     "exception": false,
     "start_time": "2022-04-27T09:29:19.903703",
     "status": "completed"
    },
    "tags": []
   },
   "outputs": [],
   "source": [
    "# Get rank by Market Cap of the cryptocurrency\n",
    "get_rank_cryptocurrency(df_about, cryptocurrency)"
   ]
  },
  {
   "cell_type": "code",
   "execution_count": null,
   "id": "8f879b3b",
   "metadata": {
    "execution": {
     "iopub.execute_input": "2022-04-27T09:29:20.041496Z",
     "iopub.status.busy": "2022-04-27T09:29:20.041082Z",
     "iopub.status.idle": "2022-04-27T09:29:20.046314Z",
     "shell.execute_reply": "2022-04-27T09:29:20.045643Z"
    },
    "papermill": {
     "duration": 0.049001,
     "end_time": "2022-04-27T09:29:20.048646",
     "exception": false,
     "start_time": "2022-04-27T09:29:19.999645",
     "status": "completed"
    },
    "tags": []
   },
   "outputs": [],
   "source": [
    "def get_data(cryptocurrency, date_start, date_end=None):\n",
    "    # Get data for given cryptocurrency in USD from Yahoo.finance and https://coinmarketcap.com/\n",
    "    # date_end = None means that the date_end is the current day\n",
    "    \n",
    "    if date_end is None:\n",
    "        date_end = dt.datetime.now()\n",
    "    df = web.DataReader(f'{cryptocurrency}-USD', 'yahoo', date_start, date_end)\n",
    "    df = df[['High', 'Low', 'Open', 'Close', 'Volume']].reset_index(drop=False)\n",
    "    \n",
    "    return df"
   ]
  },
  {
   "cell_type": "code",
   "execution_count": null,
   "id": "dc591483",
   "metadata": {
    "execution": {
     "iopub.execute_input": "2022-04-27T09:29:20.129103Z",
     "iopub.status.busy": "2022-04-27T09:29:20.128262Z",
     "iopub.status.idle": "2022-04-27T09:29:21.252262Z",
     "shell.execute_reply": "2022-04-27T09:29:21.251442Z"
    },
    "papermill": {
     "duration": 1.166588,
     "end_time": "2022-04-27T09:29:21.254480",
     "exception": false,
     "start_time": "2022-04-27T09:29:20.087892",
     "status": "completed"
    },
    "tags": []
   },
   "outputs": [],
   "source": [
    "# Download data of the cryptocurrency via API\n",
    "data = get_data(cryptocurrency, date_start, date_end)\n",
    "data"
   ]
  },
  {
   "cell_type": "markdown",
   "id": "8cb2441a",
   "metadata": {
    "papermill": {
     "duration": 0.040356,
     "end_time": "2022-04-27T09:29:21.334331",
     "exception": false,
     "start_time": "2022-04-27T09:29:21.293975",
     "status": "completed"
    },
    "tags": []
   },
   "source": [
    "## 3. FE <a class=\"anchor\" id=\"3\"></a>\n",
    "\n",
    "[Back to Table of Contents](#0.1)"
   ]
  },
  {
   "cell_type": "code",
   "execution_count": null,
   "id": "6c801382",
   "metadata": {
    "execution": {
     "iopub.execute_input": "2022-04-27T09:29:21.415679Z",
     "iopub.status.busy": "2022-04-27T09:29:21.415277Z",
     "iopub.status.idle": "2022-04-27T09:29:21.422028Z",
     "shell.execute_reply": "2022-04-27T09:29:21.421175Z"
    },
    "papermill": {
     "duration": 0.049597,
     "end_time": "2022-04-27T09:29:21.423822",
     "exception": false,
     "start_time": "2022-04-27T09:29:21.374225",
     "status": "completed"
    },
    "tags": []
   },
   "outputs": [],
   "source": [
    "def get_target(data):\n",
    "    # Get df and target (regression task)\n",
    "    #data['Close2'] = data['Close'].diff()                            # for classification task\n",
    "    #data['Close_growth'] = (data['Close2'] > 0).astype('int')        # for classification task\n",
    "    #data['target'] = data['Close_growth'].shift(-forecasting_days)   # for classification task\n",
    "    data['target'] = data['Close'].shift(-forecasting_days)\n",
    "    data = data.dropna().reset_index(drop=True)\n",
    "    data['target'] = data['target'].astype('int')\n",
    "    #data = data.drop(columns=['Close2', 'Close_growth', 'Volume'])   # for classification task\n",
    "    data = data.drop(columns=['Volume'])\n",
    "    target = data.pop('target')\n",
    "    return data, target"
   ]
  },
  {
   "cell_type": "code",
   "execution_count": null,
   "id": "7a0849a7",
   "metadata": {
    "execution": {
     "iopub.execute_input": "2022-04-27T09:29:21.506744Z",
     "iopub.status.busy": "2022-04-27T09:29:21.506380Z",
     "iopub.status.idle": "2022-04-27T09:29:21.528605Z",
     "shell.execute_reply": "2022-04-27T09:29:21.527987Z"
    },
    "papermill": {
     "duration": 0.066328,
     "end_time": "2022-04-27T09:29:21.530474",
     "exception": false,
     "start_time": "2022-04-27T09:29:21.464146",
     "status": "completed"
    },
    "tags": []
   },
   "outputs": [],
   "source": [
    "data, target = get_target(data)\n",
    "data"
   ]
  },
  {
   "cell_type": "code",
   "execution_count": null,
   "id": "cf3a5f44",
   "metadata": {
    "execution": {
     "iopub.execute_input": "2022-04-27T09:29:21.611571Z",
     "iopub.status.busy": "2022-04-27T09:29:21.611076Z",
     "iopub.status.idle": "2022-04-27T09:29:21.618048Z",
     "shell.execute_reply": "2022-04-27T09:29:21.617414Z"
    },
    "papermill": {
     "duration": 0.050803,
     "end_time": "2022-04-27T09:29:21.620608",
     "exception": false,
     "start_time": "2022-04-27T09:29:21.569805",
     "status": "completed"
    },
    "tags": []
   },
   "outputs": [],
   "source": [
    "def get_stat_features(data):\n",
    "    # Get statistic features using library TSFRESH \n",
    "    \n",
    "    data = data.reset_index(drop=False)\n",
    "    \n",
    "    # Extract features\n",
    "    extracted_features = extract_features(data, column_id=\"index\", column_sort=\"Date\")\n",
    "    \n",
    "    # Drop features with NaN\n",
    "    extracted_features_clean = extracted_features.dropna(axis=1, how='all').reset_index(drop=True)\n",
    "    \n",
    "    # Drop features with constants\n",
    "    extracted_features_clean = extracted_features_clean.loc[:, (extracted_features_clean != extracted_features_clean.iloc[0]).any()]\n",
    "    \n",
    "    extracted_features_clean['Date'] = data['Date']   # For the merging\n",
    "    \n",
    "    return extracted_features_clean"
   ]
  },
  {
   "cell_type": "code",
   "execution_count": null,
   "id": "e50e8915",
   "metadata": {
    "execution": {
     "iopub.execute_input": "2022-04-27T09:29:21.705047Z",
     "iopub.status.busy": "2022-04-27T09:29:21.704435Z",
     "iopub.status.idle": "2022-04-27T09:29:21.710898Z",
     "shell.execute_reply": "2022-04-27T09:29:21.710140Z"
    },
    "papermill": {
     "duration": 0.051101,
     "end_time": "2022-04-27T09:29:21.713041",
     "exception": false,
     "start_time": "2022-04-27T09:29:21.661940",
     "status": "completed"
    },
    "tags": []
   },
   "outputs": [],
   "source": [
    "def get_relations_for_one_feature(data, feature):\n",
    "    # Get relations for feature in data\n",
    "    \n",
    "    df = pd.DataFrame(index=data.index)\n",
    "    df['Date'] = data['Date']   # For For the merging\n",
    "    time_intervals = [1, 2, 3, 7, 14]\n",
    "    for time_item in time_intervals:\n",
    "        df[feature+str(time_item)] = data[feature]/data[feature].shift(-time_item)\n",
    "    \n",
    "    return df"
   ]
  },
  {
   "cell_type": "code",
   "execution_count": null,
   "id": "553851dc",
   "metadata": {
    "execution": {
     "iopub.execute_input": "2022-04-27T09:29:21.800504Z",
     "iopub.status.busy": "2022-04-27T09:29:21.799906Z",
     "iopub.status.idle": "2022-04-27T09:29:21.806459Z",
     "shell.execute_reply": "2022-04-27T09:29:21.805667Z"
    },
    "papermill": {
     "duration": 0.052518,
     "end_time": "2022-04-27T09:29:21.808508",
     "exception": false,
     "start_time": "2022-04-27T09:29:21.755990",
     "status": "completed"
    },
    "tags": []
   },
   "outputs": [],
   "source": [
    "def get_math_for_one_feature(data, feature):\n",
    "    # get mathematic relations for feature in data\n",
    "    \n",
    "    #print(feature)\n",
    "    df = pd.DataFrame(index=data.index)\n",
    "    df['Date'] = data['Date']   # For the merging\n",
    "    \n",
    "    try:\n",
    "        df[feature+'_sqr'] = data[feature] ** 2\n",
    "    except: pass\n",
    "        \n",
    "    try:\n",
    "        df[feature+'_sqrt'] = data[feature] ** .5\n",
    "    except: pass\n",
    "\n",
    "    try:\n",
    "        df[feature+'_log1p'] = np.log1p(data[feature])\n",
    "    except: pass\n",
    "    \n",
    "    return df"
   ]
  },
  {
   "cell_type": "code",
   "execution_count": null,
   "id": "f20ce7e4",
   "metadata": {
    "execution": {
     "iopub.execute_input": "2022-04-27T09:29:21.889839Z",
     "iopub.status.busy": "2022-04-27T09:29:21.889226Z",
     "iopub.status.idle": "2022-04-27T09:29:21.895989Z",
     "shell.execute_reply": "2022-04-27T09:29:21.895384Z"
    },
    "papermill": {
     "duration": 0.049919,
     "end_time": "2022-04-27T09:29:21.897960",
     "exception": false,
     "start_time": "2022-04-27T09:29:21.848041",
     "status": "completed"
    },
    "tags": []
   },
   "outputs": [],
   "source": [
    "def get_features_for_one_feature(data, function_type=\"get_math_for_one_feature\"):\n",
    "    # Get features\n",
    "    \n",
    "    # Result\n",
    "    data_F = pd.DataFrame(index=data.index)\n",
    "    data_F['Date'] = data['Date']   # For the merging\n",
    "    \n",
    "    # Get features\n",
    "    data_cols = data.columns.tolist()\n",
    "    if 'Date' in data_cols:\n",
    "        data_cols.remove('Date')\n",
    "    \n",
    "    # Calculation\n",
    "    if function_type==\"get_math_for_one_feature\":\n",
    "        for col in data_cols:\n",
    "            df_i = get_math_for_one_feature(data, col)\n",
    "            #data_F = pd.concat([data_F, df_i], axis=1)\n",
    "            data_F = data_F.merge(df_i, how='left', on='Date')\n",
    "    \n",
    "    elif function_type==\"get_relations_for_one_feature\":\n",
    "        pass\n",
    "    \n",
    "    return data_F"
   ]
  },
  {
   "cell_type": "code",
   "execution_count": null,
   "id": "51462107",
   "metadata": {
    "execution": {
     "iopub.execute_input": "2022-04-27T09:29:21.979152Z",
     "iopub.status.busy": "2022-04-27T09:29:21.978570Z",
     "iopub.status.idle": "2022-04-27T09:29:21.984560Z",
     "shell.execute_reply": "2022-04-27T09:29:21.983896Z"
    },
    "papermill": {
     "duration": 0.049158,
     "end_time": "2022-04-27T09:29:21.986667",
     "exception": false,
     "start_time": "2022-04-27T09:29:21.937509",
     "status": "completed"
    },
    "tags": []
   },
   "outputs": [],
   "source": [
    "def get_math_for_many_features(data):\n",
    "    # get mathematic relations for OHLC-features in data\n",
    "    \n",
    "    df = pd.DataFrame(index=data.index)\n",
    "    df['Date'] = data['Date']   # For the merging\n",
    "    \n",
    "    df['Upper_Shadow'] = data['High'] - np.maximum(data['Close'], data['Open'])\n",
    "    df['Lower_Shadow'] = np.minimum(data['Close'], data['Open']) - data['Low']\n",
    "    df['high2low'] = data['High'] / data['Low']\n",
    "    \n",
    "    return df"
   ]
  },
  {
   "cell_type": "code",
   "execution_count": null,
   "id": "504b0369",
   "metadata": {
    "execution": {
     "iopub.execute_input": "2022-04-27T09:29:22.068329Z",
     "iopub.status.busy": "2022-04-27T09:29:22.067728Z",
     "iopub.status.idle": "2022-04-27T09:30:01.224304Z",
     "shell.execute_reply": "2022-04-27T09:30:01.222849Z"
    },
    "papermill": {
     "duration": 39.200936,
     "end_time": "2022-04-27T09:30:01.227124",
     "exception": false,
     "start_time": "2022-04-27T09:29:22.026188",
     "status": "completed"
    },
    "tags": []
   },
   "outputs": [],
   "source": [
    "%%time\n",
    "# Advanced FE\n",
    "\n",
    "# Statistic features\n",
    "data_S = get_stat_features(data)\n",
    "print(f'Received {data_S.shape[1]} statistic features')\n",
    "\n",
    "# One-Function features\n",
    "data_F = get_features_for_one_feature(data)\n",
    "print(f'Received {data_F.shape[1]} One-Function features')\n",
    "\n",
    "# Many-Functions features\n",
    "data_Fs = get_math_for_many_features(data)\n",
    "print(f'Received {data_Fs.shape[1]} Many-Function features')"
   ]
  },
  {
   "cell_type": "code",
   "execution_count": null,
   "id": "122f5564",
   "metadata": {
    "execution": {
     "iopub.execute_input": "2022-04-27T09:30:01.322422Z",
     "iopub.status.busy": "2022-04-27T09:30:01.322041Z",
     "iopub.status.idle": "2022-04-27T09:32:32.081432Z",
     "shell.execute_reply": "2022-04-27T09:32:32.080050Z"
    },
    "papermill": {
     "duration": 150.808896,
     "end_time": "2022-04-27T09:32:32.083857",
     "exception": false,
     "start_time": "2022-04-27T09:30:01.274961",
     "status": "completed"
    },
    "tags": []
   },
   "outputs": [],
   "source": [
    "# Statistic features for One-Function features \n",
    "data_SF = get_stat_features(data_F)\n",
    "print(f'Received {data_SF.shape[1]} Statistic features for One-Function features')\n",
    "\n",
    "# Statistic features for Many-Function features \n",
    "data_SFs = get_stat_features(data_Fs)\n",
    "print(f'Received {data_SFs.shape[1]} Statistic features for Many-Function features')\n",
    "\n",
    "# One-Function features for Many-Functions features\n",
    "data_FFs = get_features_for_one_feature(data_Fs)\n",
    "print(f'Received {data_FFs.shape[1]} One-Function features for Many-Functions features')"
   ]
  },
  {
   "cell_type": "code",
   "execution_count": null,
   "id": "bf2bd8f1",
   "metadata": {
    "execution": {
     "iopub.execute_input": "2022-04-27T09:32:32.197227Z",
     "iopub.status.busy": "2022-04-27T09:32:32.196697Z",
     "iopub.status.idle": "2022-04-27T09:32:32.215842Z",
     "shell.execute_reply": "2022-04-27T09:32:32.214830Z"
    },
    "papermill": {
     "duration": 0.079092,
     "end_time": "2022-04-27T09:32:32.218160",
     "exception": false,
     "start_time": "2022-04-27T09:32:32.139068",
     "status": "completed"
    },
    "tags": []
   },
   "outputs": [],
   "source": [
    "data_FFs.head(3)"
   ]
  },
  {
   "cell_type": "code",
   "execution_count": null,
   "id": "724787d1",
   "metadata": {
    "execution": {
     "iopub.execute_input": "2022-04-27T09:32:32.333134Z",
     "iopub.status.busy": "2022-04-27T09:32:32.332814Z",
     "iopub.status.idle": "2022-04-27T09:32:32.342496Z",
     "shell.execute_reply": "2022-04-27T09:32:32.341539Z"
    },
    "papermill": {
     "duration": 0.070044,
     "end_time": "2022-04-27T09:32:32.344959",
     "exception": false,
     "start_time": "2022-04-27T09:32:32.274915",
     "status": "completed"
    },
    "tags": []
   },
   "outputs": [],
   "source": [
    "def get_data_for_training(df, test_option, test_size):\n",
    "    # Get test and training datasets\n",
    "    # test_option = \"end\" for prediction problem or \"random\" for EDA\n",
    "    # test_size in days in the end of the time interval for prediction problem (test_option = \"random\")\n",
    "    # test_size in part of the days in all data (1 = 100%) for EDA problem (test_option = \"end\")\n",
    "    \n",
    "    df = df.drop(columns = ['Date'])\n",
    "    df = df.dropna(how=\"any\")\n",
    "    y = df.pop('target')\n",
    "    \n",
    "    # Standartization data\n",
    "    scaler = StandardScaler()\n",
    "    df = pd.DataFrame(scaler.fit_transform(df), columns = df.columns)\n",
    "    #display(df)\n",
    "\n",
    "    if test_option == \"random\":\n",
    "        train, test, ytrain, ytest = train_test_split(df, y, test_size=test_size, random_state=random_state)\n",
    "    else:\n",
    "        # test_option == \"end\"\n",
    "        train_len = len(df)-test_size\n",
    "        test = df[train_len:]\n",
    "        train = df[:train_len]\n",
    "        ytest = y[train_len:]\n",
    "        ytrain = y[:train_len]\n",
    "        \n",
    "    print(f'Get training dataset with {len(train)} rows and test dataset with {len(test)} rows for test option - \"{test_option}\"')\n",
    "    \n",
    "    return train, test, ytrain, ytest"
   ]
  },
  {
   "cell_type": "code",
   "execution_count": null,
   "id": "68fd96ee",
   "metadata": {
    "execution": {
     "iopub.execute_input": "2022-04-27T09:32:32.459581Z",
     "iopub.status.busy": "2022-04-27T09:32:32.459237Z",
     "iopub.status.idle": "2022-04-27T09:32:32.467473Z",
     "shell.execute_reply": "2022-04-27T09:32:32.466404Z"
    },
    "papermill": {
     "duration": 0.068486,
     "end_time": "2022-04-27T09:32:32.469669",
     "exception": false,
     "start_time": "2022-04-27T09:32:32.401183",
     "status": "completed"
    },
    "tags": []
   },
   "outputs": [],
   "source": [
    "def get_data(data_frames, target, forecasting_days):\n",
    "    # Get data for training from list of dataframes with id in 'Date'\n",
    "    \n",
    "    for i in range(len(data_frames)):\n",
    "        if 'target' in data_frames[i].columns.tolist():\n",
    "            data_frames[i] = data_frames[i].drop(columns=['target'])\n",
    "    \n",
    "    df = reduce(lambda left, right: pd.merge(left,right,on=['Date'], \n",
    "                                             how='left'), data_frames)\n",
    "    print(f'Total received {df.shape[1]} features')\n",
    "    \n",
    "    df['target'] = target\n",
    "    \n",
    "    train, test, target_train, target_test = get_data_for_training(df, 'end', forecasting_days)\n",
    "    \n",
    "    return train, test, target_train, target_test"
   ]
  },
  {
   "cell_type": "markdown",
   "id": "d4d289b4",
   "metadata": {
    "papermill": {
     "duration": 0.055796,
     "end_time": "2022-04-27T09:32:32.580902",
     "exception": false,
     "start_time": "2022-04-27T09:32:32.525106",
     "status": "completed"
    },
    "tags": []
   },
   "source": [
    "## 4. Model training and prediction <a class=\"anchor\" id=\"4\"></a>\n",
    "\n",
    "[Back to Table of Contents](#0.1)"
   ]
  },
  {
   "cell_type": "code",
   "execution_count": null,
   "id": "d402d50d",
   "metadata": {
    "execution": {
     "iopub.execute_input": "2022-04-27T09:32:32.694245Z",
     "iopub.status.busy": "2022-04-27T09:32:32.693452Z",
     "iopub.status.idle": "2022-04-27T09:32:32.700940Z",
     "shell.execute_reply": "2022-04-27T09:32:32.700089Z"
    },
    "papermill": {
     "duration": 0.066348,
     "end_time": "2022-04-27T09:32:32.703079",
     "exception": false,
     "start_time": "2022-04-27T09:32:32.636731",
     "status": "completed"
    },
    "tags": []
   },
   "outputs": [],
   "source": [
    "def print_acc(x,y):\n",
    "    # Calculation and printing errors and metrics for list with real values x and prediction values y\n",
    "    # Metrics: r2_score, the relative error (WAPE), RMSE\n",
    "    \n",
    "    def error_wape(x,y):\n",
    "        # Calculation of the relative error for list with real values x and prediction values y\n",
    "        return mean_absolute_error(x,y)*len(x)/sum(x)\n",
    "\n",
    "    r2 = round(r2_score(x, y),4)\n",
    "    wape = round(100*error_wape(x,y),2)\n",
    "    rmse = round(mean_squared_error(x,y, squared=False),4)\n",
    "    print(f\"Errors: r2_score - {r2}, relative error (WAPE) - {wape}%, RMSE - {rmse}\")\n",
    "    \n",
    "    return r2, wape, rmse"
   ]
  },
  {
   "cell_type": "code",
   "execution_count": null,
   "id": "0a4b40ad",
   "metadata": {
    "execution": {
     "iopub.execute_input": "2022-04-27T09:32:32.814994Z",
     "iopub.status.busy": "2022-04-27T09:32:32.814733Z",
     "iopub.status.idle": "2022-04-27T09:32:32.820731Z",
     "shell.execute_reply": "2022-04-27T09:32:32.819929Z"
    },
    "papermill": {
     "duration": 0.064448,
     "end_time": "2022-04-27T09:32:32.822617",
     "exception": false,
     "start_time": "2022-04-27T09:32:32.758169",
     "status": "completed"
    },
    "tags": []
   },
   "outputs": [],
   "source": [
    "def xgb_training(train, target_train):\n",
    "    # XGB Regressor Training\n",
    "    \n",
    "    xgbr = xgb.XGBRegressor() \n",
    "    param_grid_xgb = {'max_depth': [5],\n",
    "                      'n_estimators': [50], \n",
    "                      'learning_rate': [0.05],\n",
    "                      'random_state': [random_state]}\n",
    "    \n",
    "    # Training model\n",
    "    xgb_CV = GridSearchCV(xgbr, param_grid=param_grid_xgb, cv=3, verbose=False)\n",
    "    xgb_CV.fit(train, target_train)\n",
    "    \n",
    "    return xgb_CV"
   ]
  },
  {
   "cell_type": "code",
   "execution_count": null,
   "id": "eca97b58",
   "metadata": {
    "execution": {
     "iopub.execute_input": "2022-04-27T09:32:32.938738Z",
     "iopub.status.busy": "2022-04-27T09:32:32.938127Z",
     "iopub.status.idle": "2022-04-27T09:32:32.945753Z",
     "shell.execute_reply": "2022-04-27T09:32:32.944831Z"
    },
    "papermill": {
     "duration": 0.067186,
     "end_time": "2022-04-27T09:32:32.947918",
     "exception": false,
     "start_time": "2022-04-27T09:32:32.880732",
     "status": "completed"
    },
    "tags": []
   },
   "outputs": [],
   "source": [
    "def main(res, res_acc, data_frames, target, forecasting_days, col_name):\n",
    "    # Model tuning and prediction for given list of the dataframes and save it into res[col_name]\n",
    "    # Errors save into dataframe res_acc\n",
    "    \n",
    "    print(col_name)\n",
    "    train, test, target_train, target_test = get_data(data_frames, target, forecasting_days)\n",
    "    \n",
    "    # Model tuning\n",
    "    model = xgb_training(train, target_train)\n",
    "    \n",
    "    # Prediction of test data\n",
    "    ypred_test = model.predict(test)\n",
    "    res[col_name] = ypred_test\n",
    "    \n",
    "    # Errors\n",
    "    _, wape, rmse = print_acc(target_test, ypred_test)\n",
    "    n = len(res_acc)\n",
    "    res_acc.loc[n,'FE_model'] = col_name\n",
    "    res_acc.loc[n,'WAPE'] = wape\n",
    "    res_acc.loc[n,'RMSE'] = rmse\n",
    "    \n",
    "    return res, res_acc"
   ]
  },
  {
   "cell_type": "code",
   "execution_count": null,
   "id": "e6c7729d",
   "metadata": {
    "execution": {
     "iopub.execute_input": "2022-04-27T09:32:33.065683Z",
     "iopub.status.busy": "2022-04-27T09:32:33.064558Z",
     "iopub.status.idle": "2022-04-27T09:32:33.075261Z",
     "shell.execute_reply": "2022-04-27T09:32:33.074221Z"
    },
    "papermill": {
     "duration": 0.071895,
     "end_time": "2022-04-27T09:32:33.077593",
     "exception": false,
     "start_time": "2022-04-27T09:32:33.005698",
     "status": "completed"
    },
    "tags": []
   },
   "outputs": [],
   "source": [
    "# Test predictions of the models\n",
    "res_pred = pd.DataFrame()\n",
    "target_test = target[(len(target)-forecasting_days):]\n",
    "res_pred['test_target'] = target_test\n",
    "\n",
    "res_acc = pd.DataFrame(columns = ['FE_model', 'WAPE', 'RMSE'])"
   ]
  },
  {
   "cell_type": "code",
   "execution_count": null,
   "id": "3cb2adb3",
   "metadata": {
    "execution": {
     "iopub.execute_input": "2022-04-27T09:32:33.193579Z",
     "iopub.status.busy": "2022-04-27T09:32:33.193252Z",
     "iopub.status.idle": "2022-04-27T09:32:52.587582Z",
     "shell.execute_reply": "2022-04-27T09:32:52.586003Z"
    },
    "papermill": {
     "duration": 19.456285,
     "end_time": "2022-04-27T09:32:52.591440",
     "exception": false,
     "start_time": "2022-04-27T09:32:33.135155",
     "status": "completed"
    },
    "tags": []
   },
   "outputs": [],
   "source": [
    "# Statistic features\n",
    "res_pred, res_acc = main(res_pred, res_acc, [data_S], target, forecasting_days, 'S')\n",
    "\n",
    "# One-Function features\n",
    "res_pred, res_acc = main(res_pred, res_acc, [data_F], target, forecasting_days, 'F')\n",
    "\n",
    "# Many-Functions features\n",
    "res_pred, res_acc = main(res_pred, res_acc, [data_Fs], target, forecasting_days, 'Fs')\n",
    "\n",
    "# Statistic features for One-Function features \n",
    "res_pred, res_acc = main(res_pred, res_acc, [data_SF], target, forecasting_days, 'SF')\n",
    "\n",
    "# Statistic features for Many-Function features \n",
    "res_pred, res_acc = main(res_pred, res_acc, [data_SFs], target, forecasting_days, 'SFs')\n",
    "\n",
    "# One-Function features for Many-Functions features\n",
    "res_pred, res_acc = main(res_pred, res_acc, [data_FFs], target, forecasting_days, 'FFs')\n",
    "\n",
    "# S, SF\n",
    "res_pred, res_acc = main(res_pred, res_acc, [data_S, data_SF], target, forecasting_days, 'S_SF')\n",
    "\n",
    "# F, SF\n",
    "res_pred, res_acc = main(res_pred, res_acc, [data_F, data_SF], target, forecasting_days, 'F_SF')\n",
    "\n",
    "# F, Fs, FFs\n",
    "res_pred, res_acc = main(res_pred, res_acc, [data_F, data_Fs, data_FFs], target, forecasting_days, 'F_Fs_FFs')\n",
    "\n",
    "# All features\n",
    "data_frames = [data_S, data_F, data_Fs, data_SF, data_SFs, data_FFs]\n",
    "res_pred, res_acc = main(res_pred, res_acc, data_frames, target, forecasting_days, 'All features')"
   ]
  },
  {
   "cell_type": "code",
   "execution_count": null,
   "id": "9aa7d314",
   "metadata": {
    "execution": {
     "iopub.execute_input": "2022-04-27T09:32:52.726883Z",
     "iopub.status.busy": "2022-04-27T09:32:52.726517Z",
     "iopub.status.idle": "2022-04-27T09:32:52.746122Z",
     "shell.execute_reply": "2022-04-27T09:32:52.745508Z"
    },
    "papermill": {
     "duration": 0.085608,
     "end_time": "2022-04-27T09:32:52.748068",
     "exception": false,
     "start_time": "2022-04-27T09:32:52.662460",
     "status": "completed"
    },
    "tags": []
   },
   "outputs": [],
   "source": [
    "display(res_pred)"
   ]
  },
  {
   "cell_type": "code",
   "execution_count": null,
   "id": "ce185e1c",
   "metadata": {
    "execution": {
     "iopub.execute_input": "2022-04-27T09:32:52.875967Z",
     "iopub.status.busy": "2022-04-27T09:32:52.875347Z",
     "iopub.status.idle": "2022-04-27T09:32:52.888695Z",
     "shell.execute_reply": "2022-04-27T09:32:52.887453Z"
    },
    "papermill": {
     "duration": 0.081168,
     "end_time": "2022-04-27T09:32:52.891294",
     "exception": false,
     "start_time": "2022-04-27T09:32:52.810126",
     "status": "completed"
    },
    "tags": []
   },
   "outputs": [],
   "source": [
    "res_acc.columns = ['FE_model', 'WAPE,%', 'RMSE']\n",
    "display(res_acc.sort_values(['WAPE,%', 'RMSE']))"
   ]
  },
  {
   "cell_type": "code",
   "execution_count": null,
   "id": "50c4e9ca",
   "metadata": {
    "execution": {
     "iopub.execute_input": "2022-04-27T09:32:53.018749Z",
     "iopub.status.busy": "2022-04-27T09:32:53.018437Z",
     "iopub.status.idle": "2022-04-27T09:32:53.022782Z",
     "shell.execute_reply": "2022-04-27T09:32:53.021877Z"
    },
    "papermill": {
     "duration": 0.071329,
     "end_time": "2022-04-27T09:32:53.025156",
     "exception": false,
     "start_time": "2022-04-27T09:32:52.953827",
     "status": "completed"
    },
    "tags": []
   },
   "outputs": [],
   "source": [
    "models = res_acc['FE_model'].tolist()"
   ]
  },
  {
   "cell_type": "code",
   "execution_count": null,
   "id": "482416e0",
   "metadata": {
    "execution": {
     "iopub.execute_input": "2022-04-27T09:32:53.152920Z",
     "iopub.status.busy": "2022-04-27T09:32:53.152645Z",
     "iopub.status.idle": "2022-04-27T09:32:53.568159Z",
     "shell.execute_reply": "2022-04-27T09:32:53.567417Z"
    },
    "papermill": {
     "duration": 0.48351,
     "end_time": "2022-04-27T09:32:53.571111",
     "exception": false,
     "start_time": "2022-04-27T09:32:53.087601",
     "status": "completed"
    },
    "tags": []
   },
   "outputs": [],
   "source": [
    "# Building plot for prediction for the test data \n",
    "x = np.arange(len(target_test))\n",
    "plt.figure(figsize=(12,8))\n",
    "plt.plot(x, target_test, label = \"Target values of the test data\", color = 'g')\n",
    "for model_name in models:\n",
    "    plt.plot(x, res_pred[model_name], label = model_name)\n",
    "plt.title('Prediction for the test data - relative errors (WAPE), %')\n",
    "plt.legend(loc='best')\n",
    "plt.grid(True)"
   ]
  },
  {
   "cell_type": "markdown",
   "id": "19501053",
   "metadata": {
    "papermill": {
     "duration": 0.064716,
     "end_time": "2022-04-27T09:32:53.702183",
     "exception": false,
     "start_time": "2022-04-27T09:32:53.637467",
     "status": "completed"
    },
    "tags": []
   },
   "source": [
    "I hope you find this notebook useful and enjoyable.\n",
    "\n",
    "Your comments and feedback are most welcome."
   ]
  },
  {
   "cell_type": "markdown",
   "id": "e4eb6941",
   "metadata": {
    "papermill": {
     "duration": 0.064471,
     "end_time": "2022-04-27T09:32:53.831989",
     "exception": false,
     "start_time": "2022-04-27T09:32:53.767518",
     "status": "completed"
    },
    "tags": []
   },
   "source": [
    "[Go to Top](#0)"
   ]
  }
 ],
 "metadata": {
  "kernelspec": {
   "display_name": "Python 3.8.5",
   "language": "python",
   "name": "python3"
  },
  "language_info": {
   "codemirror_mode": {
    "name": "ipython",
    "version": 3
   },
   "file_extension": ".py",
   "mimetype": "text/x-python",
   "name": "python",
   "nbconvert_exporter": "python",
   "pygments_lexer": "ipython3",
   "version": "3.8.5"
  },
  "papermill": {
   "default_parameters": {},
   "duration": 231.224273,
   "end_time": "2022-04-27T09:32:55.125844",
   "environment_variables": {},
   "exception": null,
   "input_path": "__notebook__.ipynb",
   "output_path": "__notebook__.ipynb",
   "parameters": {},
   "start_time": "2022-04-27T09:29:03.901571",
   "version": "2.3.4"
  },
  "vscode": {
   "interpreter": {
    "hash": "e6f0f18e929f98629b0ad9187bbe400905e62f038b2875773787324ab39080a5"
   }
  }
 },
 "nbformat": 4,
 "nbformat_minor": 5
}
